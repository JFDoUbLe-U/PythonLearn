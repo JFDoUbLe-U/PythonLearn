{
 "cells": [
  {
   "cell_type": "code",
   "execution_count": 14,
   "metadata": {},
   "outputs": [
    {
     "name": "stdout",
     "output_type": "stream",
     "text": [
      "1\n"
     ]
    }
   ],
   "source": [
    "#// Division und löschen von dem, was hinter dem Komma steht\n",
    "a = 10//6\n",
    "print(a)"
   ]
  },
  {
   "cell_type": "code",
   "execution_count": 15,
   "metadata": {},
   "outputs": [
    {
     "name": "stdout",
     "output_type": "stream",
     "text": [
      "4\n"
     ]
    }
   ],
   "source": [
    "#% Modulo bedeutet teilen und Rest ausgeben\n",
    "a = 10 % 6\n",
    "print(a)"
   ]
  },
  {
   "cell_type": "code",
   "execution_count": 16,
   "metadata": {},
   "outputs": [
    {
     "name": "stdout",
     "output_type": "stream",
     "text": [
      "2*2*2 oder 2**3= 8\n"
     ]
    }
   ],
   "source": [
    "#** Damit berechnet man Potenzen\n",
    "a = 2**3\n",
    "print(\"2*2*2 oder 2**3=\",a)"
   ]
  },
  {
   "cell_type": "code",
   "execution_count": 17,
   "metadata": {},
   "outputs": [
    {
     "name": "stdout",
     "output_type": "stream",
     "text": [
      "-11\n"
     ]
    }
   ],
   "source": [
    "#~ Binary invert\n",
    "a = ~10\n",
    "print(a)"
   ]
  },
  {
   "cell_type": "code",
   "execution_count": 18,
   "metadata": {},
   "outputs": [
    {
     "name": "stdout",
     "output_type": "stream",
     "text": [
      "10 um ein Bit nach links verschoben: 20\n",
      "10 um ein Bit nach rechts verschoben: 5\n"
     ]
    }
   ],
   "source": [
    "#<< Bit nach links verschieben | >> Bit nach rechts verschieben\n",
    "a = 10 << 1\n",
    "print(\"10 um ein Bit nach links verschoben:\",a)\n",
    "\n",
    "a = 10 >> 1\n",
    "print(\"10 um ein Bit nach rechts verschoben:\",a)"
   ]
  },
  {
   "cell_type": "code",
   "execution_count": 19,
   "metadata": {},
   "outputs": [
    {
     "name": "stdout",
     "output_type": "stream",
     "text": [
      "2\n"
     ]
    }
   ],
   "source": [
    "#& Bitwise AND -> Vergleicht die Bits von a und b, wenn beide 1 dann 1, wenn nicht, dann 0. So ergibt sich dann eine neue Zahl\n",
    "a = 10 & 6\n",
    "print(a)\n",
    "#  1010 = 10\n",
    "#  0110 =  6\n",
    "#  0010 =  2"
   ]
  },
  {
   "cell_type": "code",
   "execution_count": 20,
   "metadata": {},
   "outputs": [
    {
     "name": "stdout",
     "output_type": "stream",
     "text": [
      "12\n"
     ]
    }
   ],
   "source": [
    "#^ Bitwise xor -> Vergleicht die Bits von a und b, wenn eins von beiden 1 ist, dann 1, wenn keins oder beide 1 sind, dann 0. So ergibt sich eine neue Zahl\n",
    "a = 10 ^ 6\n",
    "print(a)\n",
    "#  1010 = 10\n",
    "#  0110 =  6\n",
    "#  1100 = 12"
   ]
  },
  {
   "cell_type": "code",
   "execution_count": 21,
   "metadata": {},
   "outputs": [
    {
     "name": "stdout",
     "output_type": "stream",
     "text": [
      "14\n"
     ]
    }
   ],
   "source": [
    "#| Bitwise or -> Vergleicht die Bits von a und b, wenns eins von beiden oder beide 1, dann 1, wenn beide 0, dann 0.\n",
    "a = 10 | 6\n",
    "print(a)\n",
    "#  1010 = 10\n",
    "#  0110 =  6\n",
    "#  1110 = 14"
   ]
  }
 ],
 "metadata": {
  "kernelspec": {
   "display_name": "Python 3",
   "language": "python",
   "name": "python3"
  },
  "language_info": {
   "codemirror_mode": {
    "name": "ipython",
    "version": 3
   },
   "file_extension": ".py",
   "mimetype": "text/x-python",
   "name": "python",
   "nbconvert_exporter": "python",
   "pygments_lexer": "ipython3",
   "version": "3.12.0"
  }
 },
 "nbformat": 4,
 "nbformat_minor": 2
}
