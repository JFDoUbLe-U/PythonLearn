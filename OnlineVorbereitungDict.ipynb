{
 "cells": [
  {
   "cell_type": "code",
   "execution_count": 151,
   "metadata": {},
   "outputs": [],
   "source": [
    "def tprint(x):\n",
    "    print(type(x))\n",
    "\n",
    "def leerzeile():\n",
    "    print(\"\\n\")"
   ]
  },
  {
   "cell_type": "code",
   "execution_count": 152,
   "metadata": {},
   "outputs": [
    {
     "name": "stdout",
     "output_type": "stream",
     "text": [
      "{'Modell': 'Huracan', 'PS': 600, 'Baujahr': 2015, 'Tachostand': 13000} \n",
      " {'Modell': 'RS3', 'PS': 410, 'Baujahr': 2017, 'Tachostand': 38000}\n"
     ]
    }
   ],
   "source": [
    "Lambo = {\"Modell\": \"Huracan\", \"PS\": 600, \"Baujahr\": 2015, \"Tachostand\": 13000}\n",
    "Audi = {\"Modell\": \"RS3\", \"PS\": 410, \"Baujahr\": 2017, \"Tachostand\": 38000}\n",
    "print(Lambo,\"\\n\",Audi)"
   ]
  },
  {
   "cell_type": "code",
   "execution_count": 153,
   "metadata": {},
   "outputs": [
    {
     "name": "stdout",
     "output_type": "stream",
     "text": [
      "<class 'dict'>\n",
      "<class 'dict'>\n"
     ]
    }
   ],
   "source": [
    "print(type(Lambo))\n",
    "print(type(Audi))"
   ]
  },
  {
   "cell_type": "code",
   "execution_count": 154,
   "metadata": {},
   "outputs": [
    {
     "name": "stdout",
     "output_type": "stream",
     "text": [
      "Huracan\n",
      "RS3\n"
     ]
    }
   ],
   "source": [
    "print(Lambo[\"Modell\"])\n",
    "print(Audi.get(\"Modell\"))"
   ]
  },
  {
   "cell_type": "code",
   "execution_count": 155,
   "metadata": {},
   "outputs": [
    {
     "name": "stdout",
     "output_type": "stream",
     "text": [
      "dict_keys(['Modell', 'PS', 'Baujahr', 'Tachostand'])\n",
      "dict_values(['Huracan', 600, 2015, 13000])\n",
      "dict_items([('Modell', 'Huracan'), ('PS', 600), ('Baujahr', 2015), ('Tachostand', 13000)])\n"
     ]
    }
   ],
   "source": [
    "print((Lambo.keys()))\n",
    "print((Lambo.values()))\n",
    "print((Lambo.items()))"
   ]
  },
  {
   "cell_type": "code",
   "execution_count": 156,
   "metadata": {},
   "outputs": [
    {
     "name": "stdout",
     "output_type": "stream",
     "text": [
      "<class 'dict'>\n"
     ]
    }
   ],
   "source": [
    "tprint(Lambo)"
   ]
  },
  {
   "cell_type": "code",
   "execution_count": 157,
   "metadata": {},
   "outputs": [
    {
     "name": "stdout",
     "output_type": "stream",
     "text": [
      "Modell : Huracan\n",
      "PS : 600\n",
      "Baujahr : 2015\n",
      "Tachostand : 13000\n",
      "\n",
      "\n",
      "Modell : RS3\n",
      "PS : 410\n",
      "Baujahr : 2017\n",
      "Tachostand : 38000\n"
     ]
    }
   ],
   "source": [
    "for i in Lambo:\n",
    "    print(i,\":\",Lambo[i])\n",
    "print(\"\\n\")\n",
    "for i in Audi.items():\n",
    "    print(i[0],\":\",i[1])"
   ]
  },
  {
   "cell_type": "code",
   "execution_count": 158,
   "metadata": {},
   "outputs": [
    {
     "name": "stdout",
     "output_type": "stream",
     "text": [
      "4\n"
     ]
    }
   ],
   "source": [
    "print(len(Audi))"
   ]
  },
  {
   "cell_type": "code",
   "execution_count": 159,
   "metadata": {},
   "outputs": [
    {
     "name": "stdout",
     "output_type": "stream",
     "text": [
      "{'Modell': 'RS3', 'PS': 410, 'Baujahr': 2017, 'Tachostand': 38000, 'Vorbesitzer': 1} \n",
      " {'Modell': 'Huracan', 'PS': 600, 'Baujahr': 2015, 'Tachostand': 13000, 'Vorbesitzer': 2}\n"
     ]
    }
   ],
   "source": [
    "#Key-Value-Assignment\n",
    "Audi[\"Vorbesitzer\"] = 1\n",
    "#update\n",
    "Lambo.update({\"Vorbesitzer\": 2})\n",
    "Audi.update({\"Baujahr\": 2017})\n",
    "print(Audi,\"\\n\",Lambo)"
   ]
  },
  {
   "cell_type": "code",
   "execution_count": 160,
   "metadata": {},
   "outputs": [
    {
     "name": "stdout",
     "output_type": "stream",
     "text": [
      "{'Modell': 'RS3', 'PS': 410, 'Baujahr': 2017, 'Tachostand': 38000, 'Vorbesitzer': 1, 'Test': None}\n",
      "{'Modell': 'RS3', 'PS': 410, 'Baujahr': 2017, 'Tachostand': 38000, 'Vorbesitzer': 1}\n"
     ]
    }
   ],
   "source": [
    "#Default Value\n",
    "Audi.setdefault(\"Test\")\n",
    "print(Audi)\n",
    "Audi.pop(\"Test\")\n",
    "print(Audi)"
   ]
  },
  {
   "cell_type": "code",
   "execution_count": 161,
   "metadata": {},
   "outputs": [
    {
     "name": "stdout",
     "output_type": "stream",
     "text": [
      "{1: 'Eins', 2: 'Zwei', 3: 'Drei', 4: 'Vier', 5: 'Fünf'}\n",
      "Fünf\n",
      "<class 'str'>\n",
      "(4, 'Vier')\n",
      "<class 'tuple'>\n",
      "{}\n",
      "<class 'dict'>\n",
      "{}\n"
     ]
    }
   ],
   "source": [
    "#Löschen\n",
    "ToDelete = {1:\"Eins\",2:\"Zwei\",3:\"Drei\",4:\"Vier\",5:\"Fünf\"}\n",
    "print(ToDelete)\n",
    "delItem = ToDelete.pop(5) #Löscht das Item des angegebenen Keys und returnt den Value\n",
    "print(delItem)\n",
    "tprint(delItem)\n",
    "delItem = ToDelete.popitem() #Löscht und returnt das zuletzt angehangene item\n",
    "print(delItem)\n",
    "tprint(delItem)\n",
    "ToDelete.clear() #leert das dict\n",
    "print(ToDelete)\n",
    "tprint(ToDelete)\n",
    "# del ToDelete[1] #Soll laut Pynative gehen ???\n",
    "print(ToDelete)\n",
    "del ToDelete #löscht das dict\n",
    "# print(ToDelete) - Nicht mehr da"
   ]
  },
  {
   "cell_type": "code",
   "execution_count": 162,
   "metadata": {},
   "outputs": [
    {
     "name": "stdout",
     "output_type": "stream",
     "text": [
      "{'Modell': 'RS3', 'PS': 410, 'Baujahr': 2017, 'Tachostand': 38000, 'Vorbesitzer': 1} \n",
      " {'Modell': 'Huracan', 'PS': 600, 'Baujahr': 2015, 'Tachostand': 13000, 'Vorbesitzer': 2}\n",
      "PS: 410\n",
      "<class 'dict_keys'>\n",
      "dict_keys(['Modell', 'PS', 'Baujahr', 'Tachostand', 'Vorbesitzer'])\n"
     ]
    }
   ],
   "source": [
    "#Check if a Key exists\n",
    "print(Audi,\"\\n\",Lambo)\n",
    "Keysearch = \"PS\"\n",
    "if Keysearch in Audi:\n",
    "    print(\"PS:\",Audi[\"PS\"])\n",
    "\n",
    "Keys = Audi.keys()\n",
    "tprint(Keys)\n",
    "print(Keys)"
   ]
  },
  {
   "cell_type": "code",
   "execution_count": 163,
   "metadata": {},
   "outputs": [
    {
     "name": "stdout",
     "output_type": "stream",
     "text": [
      "{'Eins': 1, 'Zwei': 2, 'Drei': 3} {'Eins': 1, 'Zwei': 4, 'Null': 0, 'Vier': 3}\n",
      "{'Eins': 1, 'Zwei': 4, 'Drei': 3, 'Null': 0, 'Vier': 3} \n",
      "dict2: {'Eins': 1, 'Zwei': 4, 'Null': 0, 'Vier': 3}\n"
     ]
    }
   ],
   "source": [
    "dict1 = {\"Eins\":1,\"Zwei\":2,\"Drei\":3}\n",
    "dict2 = {\"Eins\":1,\"Zwei\":4,\"Null\":0,\"Vier\":3}\n",
    "print(dict1,dict2)\n",
    "dict1.update(dict2)\n",
    "print(dict1,\"\\ndict2:\",dict2)"
   ]
  },
  {
   "cell_type": "code",
   "execution_count": 164,
   "metadata": {},
   "outputs": [
    {
     "name": "stdout",
     "output_type": "stream",
     "text": [
      "{'Eins': 1, 'Zwei': 4, 'Drei': 3, 'Null': 0, 'Vier': 3}\n",
      "Eins Zwei Drei Null Vier\n"
     ]
    }
   ],
   "source": [
    "#**kwargs verstehe ich nicht\n",
    "dict0 = {**dict1,**dict2}\n",
    "print(dict0)\n",
    "print(*dict1)"
   ]
  },
  {
   "cell_type": "code",
   "execution_count": 165,
   "metadata": {},
   "outputs": [
    {
     "name": "stdout",
     "output_type": "stream",
     "text": [
      "{'Eins': 1, 'Zwei': 4, 'Drei': 3, 'Null': 0, 'Vier': 3} {'Eins': 1, 'Zwei': 4, 'Null': 0, 'Vier': 3}\n",
      "{'Eins': 1, 'Zwei': 4, 'Null': 0, 'Vier': 3}\n"
     ]
    }
   ],
   "source": [
    "print(dict1,dict2)\n",
    "dict1 = dict2.copy() #also \"=\" to copy, but it makes a reference to the other dict\n",
    "print(dict1)\n",
    "# dict4 = dict(dict1) #?? geht nicht ??"
   ]
  },
  {
   "cell_type": "code",
   "execution_count": 166,
   "metadata": {},
   "outputs": [
    {
     "name": "stdout",
     "output_type": "stream",
     "text": [
      "RS3 \n",
      " 600\n",
      "\n",
      "\n",
      "Aktuell verfügbarer Audi:\n",
      "Modell : RS3\n",
      "PS : 410\n",
      "Baujahr : 2017\n",
      "Tachostand : 38000\n",
      "Vorbesitzer : 1\n",
      "\n",
      "\n",
      "Aktuell verfügbarer Lambo:\n",
      "Modell : Huracan\n",
      "PS : 600\n",
      "Baujahr : 2015\n",
      "Tachostand : 13000\n",
      "Vorbesitzer : 2\n",
      "\n",
      "\n"
     ]
    }
   ],
   "source": [
    "Autohaus = {\"Audi\": Audi, \"Lambo\": Lambo}\n",
    "print(Autohaus[\"Audi\"][\"Modell\"],\"\\n\",Autohaus[\"Lambo\"][\"PS\"])\n",
    "leerzeile()\n",
    "\n",
    "for key, value in Autohaus.items():\n",
    "    if key == \"Audi\":\n",
    "        print(\"Aktuell verfügbarer Audi:\")\n",
    "    if key == \"Lambo\":\n",
    "        print(\"Aktuell verfügbarer Lambo:\")\n",
    "    for nested_key, nested_value in value.items():\n",
    "        print(nested_key, \":\", nested_value,)\n",
    "    leerzeile()"
   ]
  },
  {
   "cell_type": "code",
   "execution_count": 167,
   "metadata": {},
   "outputs": [
    {
     "name": "stdout",
     "output_type": "stream",
     "text": [
      "410\n",
      "600\n"
     ]
    }
   ],
   "source": [
    "for key in Autohaus:\n",
    "    print(Autohaus[key][\"PS\"])"
   ]
  },
  {
   "cell_type": "code",
   "execution_count": 168,
   "metadata": {},
   "outputs": [
    {
     "name": "stdout",
     "output_type": "stream",
     "text": [
      "Sort by key: [('Baujahr', 2017), ('Modell', 'RS3'), ('PS', 410), ('Tachostand', 38000), ('Vorbesitzer', 1)]\n",
      "Sort by value: [1, 2, 3, 4]\n"
     ]
    }
   ],
   "source": [
    "print(\"Sort by key:\",sorted(Audi.items()))\n",
    "\n",
    "dicta = {\"Eins\":4,\"Zwei\":3,\"Drei\":2,\"Vier\":1}\n",
    "print(\"Sort by value:\",sorted(dicta.values()))"
   ]
  },
  {
   "cell_type": "code",
   "execution_count": 169,
   "metadata": {},
   "outputs": [
    {
     "name": "stdout",
     "output_type": "stream",
     "text": [
      "{2: 4, 4: 16, 6: 36, 8: 64, 10: 100}\n"
     ]
    }
   ],
   "source": [
    "#Dict Comprehension\n",
    "ComDict = [1,2,3,4,5,6,7,8,9,10]\n",
    "even_squares = {x: x**2 for x in ComDict if x%2 == 0}\n",
    "print(even_squares)"
   ]
  },
  {
   "cell_type": "code",
   "execution_count": 170,
   "metadata": {},
   "outputs": [
    {
     "name": "stdout",
     "output_type": "stream",
     "text": [
      "{'Alex': 1632, 'Chris': 1570, 'Janis': 606592}\n"
     ]
    }
   ],
   "source": [
    "Nummern = [1632,1570,606592]\n",
    "Personen = [\"Alex\",\"Chris\",\"Janis\"]\n",
    "Telefonbuch = {key: value for key, value in zip(Personen, Nummern)}\n",
    "print(Telefonbuch)"
   ]
  },
  {
   "cell_type": "code",
   "execution_count": 172,
   "metadata": {},
   "outputs": [
    {
     "name": "stdout",
     "output_type": "stream",
     "text": [
      "None\n",
      "{1: 1, 'Test': 2}\n"
     ]
    }
   ],
   "source": [
    "temp = Telefonbuch.get(\"Ich\")\n",
    "print(temp)\n",
    "temp0 = {1:1,\"Test\":2}\n",
    "print(temp0)"
   ]
  }
 ],
 "metadata": {
  "kernelspec": {
   "display_name": "Python 3",
   "language": "python",
   "name": "python3"
  },
  "language_info": {
   "codemirror_mode": {
    "name": "ipython",
    "version": 3
   },
   "file_extension": ".py",
   "mimetype": "text/x-python",
   "name": "python",
   "nbconvert_exporter": "python",
   "pygments_lexer": "ipython3",
   "version": "3.12.0"
  },
  "orig_nbformat": 4
 },
 "nbformat": 4,
 "nbformat_minor": 2
}
