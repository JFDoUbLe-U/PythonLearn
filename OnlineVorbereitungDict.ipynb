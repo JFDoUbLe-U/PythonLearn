{
 "cells": [
  {
   "cell_type": "code",
   "execution_count": 8,
   "metadata": {},
   "outputs": [],
   "source": [
    "def tprint(x):\n",
    "    print(type(x))"
   ]
  },
  {
   "cell_type": "code",
   "execution_count": 9,
   "metadata": {},
   "outputs": [
    {
     "name": "stdout",
     "output_type": "stream",
     "text": [
      "{'Modell': 'Huracan', 'PS': 600, 'Baujahr': 2015, 'Tachostand': 13000} \n",
      " {'Modell': 'RS3', 'PS': 410, 'Baujahr': 2017, 'Tachostand': 38000}\n"
     ]
    }
   ],
   "source": [
    "Lambo = {\"Modell\": \"Huracan\", \"PS\": 600, \"Baujahr\": 2015, \"Tachostand\": 13000}\n",
    "Audi = dict({\"Modell\": \"RS3\", \"PS\": 410, \"Baujahr\": 2017, \"Tachostand\": 38000})\n",
    "print(Lambo,\"\\n\",Audi)"
   ]
  },
  {
   "cell_type": "code",
   "execution_count": 10,
   "metadata": {},
   "outputs": [
    {
     "name": "stdout",
     "output_type": "stream",
     "text": [
      "<class 'dict'>\n",
      "<class 'dict'>\n"
     ]
    }
   ],
   "source": [
    "print(type(Lambo))\n",
    "print(type(Audi))"
   ]
  },
  {
   "cell_type": "code",
   "execution_count": 11,
   "metadata": {},
   "outputs": [
    {
     "name": "stdout",
     "output_type": "stream",
     "text": [
      "Huracan\n",
      "RS3\n"
     ]
    }
   ],
   "source": [
    "print(Lambo[\"Modell\"])\n",
    "print(Audi.get(\"Modell\"))"
   ]
  },
  {
   "cell_type": "code",
   "execution_count": 12,
   "metadata": {},
   "outputs": [
    {
     "name": "stdout",
     "output_type": "stream",
     "text": [
      "dict_keys(['Modell', 'PS', 'Baujahr', 'Tachostand'])\n",
      "dict_values(['Huracan', 600, 2015, 13000])\n",
      "dict_items([('Modell', 'Huracan'), ('PS', 600), ('Baujahr', 2015), ('Tachostand', 13000)])\n"
     ]
    }
   ],
   "source": [
    "print((Lambo.keys()))\n",
    "print((Lambo.values()))\n",
    "print((Lambo.items()))"
   ]
  },
  {
   "cell_type": "code",
   "execution_count": 13,
   "metadata": {},
   "outputs": [
    {
     "name": "stdout",
     "output_type": "stream",
     "text": [
      "<class 'dict'>\n"
     ]
    }
   ],
   "source": [
    "tprint(Lambo)"
   ]
  },
  {
   "cell_type": "code",
   "execution_count": 14,
   "metadata": {},
   "outputs": [
    {
     "name": "stdout",
     "output_type": "stream",
     "text": [
      "Modell : Huracan\n",
      "PS : 600\n",
      "Baujahr : 2015\n",
      "Tachostand : 13000\n",
      "\n",
      "\n",
      "Modell : RS3\n",
      "PS : 410\n",
      "Baujahr : 2017\n",
      "Tachostand : 38000\n"
     ]
    }
   ],
   "source": [
    "for i in Lambo:\n",
    "    print(i,\":\",Lambo[i])\n",
    "print(\"\\n\")\n",
    "for i in Audi.items():\n",
    "    print(i[0],\":\",i[1])"
   ]
  },
  {
   "cell_type": "code",
   "execution_count": 15,
   "metadata": {},
   "outputs": [
    {
     "name": "stdout",
     "output_type": "stream",
     "text": [
      "4\n"
     ]
    }
   ],
   "source": [
    "print(len(Audi))"
   ]
  },
  {
   "cell_type": "code",
   "execution_count": 21,
   "metadata": {},
   "outputs": [
    {
     "name": "stdout",
     "output_type": "stream",
     "text": [
      "{'Modell': 'RS3', 'PS': 410, 'Baujahr': 2017, 'Tachostand': 38000, 'Vorbesitzer': 1} \n",
      " {'Modell': 'Huracan', 'PS': 600, 'Baujahr': 2015, 'Tachostand': 13000, 'Vorbesitzer': 2}\n"
     ]
    }
   ],
   "source": [
    "#Key-Value-Assignment\n",
    "Audi[\"Vorbesitzer\"] = 1\n",
    "#update\n",
    "Lambo.update({\"Vorbesitzer\": 2})\n",
    "Audi.update({\"Baujahr\": 2017})\n",
    "print(Audi,\"\\n\",Lambo)"
   ]
  },
  {
   "cell_type": "code",
   "execution_count": 28,
   "metadata": {},
   "outputs": [
    {
     "name": "stdout",
     "output_type": "stream",
     "text": [
      "{'Modell': 'RS3', 'PS': 410, 'Baujahr': 2017, 'Tachostand': 38000, 'Vorbesitzer': 1, 'Test': None}\n",
      "{'Modell': 'RS3', 'PS': 410, 'Baujahr': 2017, 'Tachostand': 38000, 'Vorbesitzer': 1}\n"
     ]
    }
   ],
   "source": [
    "#Default Value\n",
    "Audi.setdefault(\"Test\")\n",
    "print(Audi)\n",
    "Audi.pop(\"Test\")\n",
    "print(Audi)"
   ]
  },
  {
   "cell_type": "code",
   "execution_count": 35,
   "metadata": {},
   "outputs": [
    {
     "name": "stdout",
     "output_type": "stream",
     "text": [
      "{1: 'Eins', 2: 'Zwei', 3: 'Drei', 4: 'Vier', 5: 'Fünf'}\n",
      "Fünf\n",
      "<class 'str'>\n",
      "(4, 'Vier')\n",
      "<class 'tuple'>\n",
      "{}\n",
      "<class 'dict'>\n"
     ]
    }
   ],
   "source": [
    "#Löschen\n",
    "ToDelete = {1:\"Eins\",2:\"Zwei\",3:\"Drei\",4:\"Vier\",5:\"Fünf\"}\n",
    "print(ToDelete)\n",
    "delItem = ToDelete.pop(5)\n",
    "print(delItem)\n",
    "tprint(delItem)\n",
    "delItem = ToDelete.popitem()\n",
    "print(delItem)\n",
    "tprint(delItem)\n",
    "ToDelete.clear()\n",
    "print(ToDelete)\n",
    "tprint(ToDelete)\n",
    "del ToDelete\n",
    "# print(ToDelete) - Nicht mehr da"
   ]
  }
 ],
 "metadata": {
  "kernelspec": {
   "display_name": "Python 3",
   "language": "python",
   "name": "python3"
  },
  "language_info": {
   "codemirror_mode": {
    "name": "ipython",
    "version": 3
   },
   "file_extension": ".py",
   "mimetype": "text/x-python",
   "name": "python",
   "nbconvert_exporter": "python",
   "pygments_lexer": "ipython3",
   "version": "3.12.0"
  },
  "orig_nbformat": 4
 },
 "nbformat": 4,
 "nbformat_minor": 2
}
