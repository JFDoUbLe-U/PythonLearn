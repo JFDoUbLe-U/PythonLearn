{
 "cells": [
  {
   "cell_type": "code",
   "execution_count": 1,
   "metadata": {},
   "outputs": [
    {
     "name": "stdout",
     "output_type": "stream",
     "text": [
      "(50, 40, 30, 20, 10)\n"
     ]
    }
   ],
   "source": [
    "tuple1 = (10,20,30,40,50)\n",
    "print(tuple1[::-1])"
   ]
  },
  {
   "cell_type": "code",
   "execution_count": 3,
   "metadata": {},
   "outputs": [
    {
     "name": "stdout",
     "output_type": "stream",
     "text": [
      "20\n"
     ]
    }
   ],
   "source": [
    "tuple1 = (\"Orange\", [10, 20, 30], (5, 15, 25))\n",
    "print(tuple1[1][1])"
   ]
  },
  {
   "cell_type": "code",
   "execution_count": 8,
   "metadata": {},
   "outputs": [
    {
     "name": "stdout",
     "output_type": "stream",
     "text": [
      "(50,)\n"
     ]
    }
   ],
   "source": [
    "tuple1 = (50,)\n",
    "print(tuple1)"
   ]
  },
  {
   "cell_type": "code",
   "execution_count": 10,
   "metadata": {},
   "outputs": [
    {
     "name": "stdout",
     "output_type": "stream",
     "text": [
      "10 \n",
      " 20 \n",
      " 30 \n",
      " 40 \n",
      "\n"
     ]
    }
   ],
   "source": [
    "tuple1 = (10, 20, 30, 40)\n",
    "a,b,c,d = tuple1\n",
    "print(a,\"\\n\",b,\"\\n\",c,\"\\n\",d,\"\\n\")"
   ]
  },
  {
   "cell_type": "code",
   "execution_count": 12,
   "metadata": {},
   "outputs": [
    {
     "name": "stdout",
     "output_type": "stream",
     "text": [
      "(99, 88)\n",
      "(11, 22)\n"
     ]
    }
   ],
   "source": [
    "tuple1 = (11, 22)\n",
    "tuple2 = (99, 88)\n",
    "tuple1, tuple2 = tuple2, tuple1\n",
    "print(tuple1)\n",
    "print(tuple2)"
   ]
  },
  {
   "cell_type": "code",
   "execution_count": 14,
   "metadata": {},
   "outputs": [
    {
     "name": "stdout",
     "output_type": "stream",
     "text": [
      "(44, 55)\n"
     ]
    }
   ],
   "source": [
    "tuple1 = (11, 22, 33, 44, 55, 66)\n",
    "tuple2 = (tuple1[3],tuple1[4])\n",
    "tuple2 = (tuple1[3:5])  #<-- oder so\n",
    "print(tuple2)"
   ]
  },
  {
   "cell_type": "code",
   "execution_count": 17,
   "metadata": {},
   "outputs": [
    {
     "name": "stdout",
     "output_type": "stream",
     "text": [
      "1826062535744\n",
      "(11, [222, 33], 44, 55)  ID: 1826062535744\n"
     ]
    }
   ],
   "source": [
    "tuple1 = (11, [22, 33], 44, 55)\n",
    "print(id(tuple1[1]))\n",
    "tuple1[1][0] = 222\n",
    "print(tuple1,\" ID:\",id(tuple1[1]))"
   ]
  },
  {
   "cell_type": "code",
   "execution_count": 18,
   "metadata": {},
   "outputs": [
    {
     "name": "stdout",
     "output_type": "stream",
     "text": [
      "1826068881520\n"
     ]
    },
    {
     "ename": "TypeError",
     "evalue": "'tuple' object does not support item assignment",
     "output_type": "error",
     "traceback": [
      "\u001b[1;31m---------------------------------------------------------------------------\u001b[0m",
      "\u001b[1;31mTypeError\u001b[0m                                 Traceback (most recent call last)",
      "Cell \u001b[1;32mIn[18], line 3\u001b[0m\n\u001b[0;32m      1\u001b[0m tuple1 \u001b[39m=\u001b[39m (\u001b[39m11\u001b[39m, [\u001b[39m22\u001b[39m, \u001b[39m33\u001b[39m], \u001b[39m44\u001b[39m, \u001b[39m55\u001b[39m)\n\u001b[0;32m      2\u001b[0m \u001b[39mprint\u001b[39m(\u001b[39mid\u001b[39m(tuple1))\n\u001b[1;32m----> 3\u001b[0m tuple1[\u001b[39m0\u001b[39;49m] \u001b[39m=\u001b[39m \u001b[39m222\u001b[39m\n\u001b[0;32m      4\u001b[0m \u001b[39mprint\u001b[39m(tuple1,\u001b[39m\"\u001b[39m\u001b[39m ID:\u001b[39m\u001b[39m\"\u001b[39m,\u001b[39mid\u001b[39m(tuple1))\n",
      "\u001b[1;31mTypeError\u001b[0m: 'tuple' object does not support item assignment"
     ]
    }
   ],
   "source": [
    "tuple1 = (11, [22, 33], 44, 55)\n",
    "print(id(tuple1))\n",
    "tuple1[0] = 222\n",
    "print(tuple1,\" ID:\",id(tuple1))"
   ]
  },
  {
   "cell_type": "code",
   "execution_count": 31,
   "metadata": {},
   "outputs": [
    {
     "name": "stdout",
     "output_type": "stream",
     "text": [
      "(('c', 11), ('a', 23), ('d', 29), ('b', 37))\n"
     ]
    }
   ],
   "source": [
    "tuple1 = (('a', 23), ('b', 37), ('c', 11), ('d', 29))  #????????!!!!!!!!!\n",
    "tuple1 = tuple(sorted(list(tuple1), key=lambda x: x[1]))\n",
    "print(tuple1)"
   ]
  },
  {
   "cell_type": "code",
   "execution_count": 33,
   "metadata": {},
   "outputs": [
    {
     "name": "stdout",
     "output_type": "stream",
     "text": [
      "2\n",
      "2\n"
     ]
    }
   ],
   "source": [
    "tuple1 = (50, 10, 60, 70, 50)\n",
    "counter = 0\n",
    "for i in tuple1:\n",
    "    if i == 50:\n",
    "        counter += 1\n",
    "print(counter)\n",
    "\n",
    "#oder einfacher:\n",
    "print(tuple1.count(50))"
   ]
  },
  {
   "cell_type": "code",
   "execution_count": 41,
   "metadata": {},
   "outputs": [
    {
     "name": "stdout",
     "output_type": "stream",
     "text": [
      "True\n",
      "True\n"
     ]
    }
   ],
   "source": [
    "tuple1 = (45, 45, 45, 45)\n",
    "check = tuple1[0]\n",
    "flag = True\n",
    "for i in tuple1:\n",
    "    if i != check:\n",
    "        flag = False\n",
    "        break\n",
    "print(flag)\n",
    "\n",
    "#oder in einer Funktion:\n",
    "def checker(t):\n",
    "    return all(i == t[0] for i in t)\n",
    "\n",
    "print(checker(tuple1))"
   ]
  }
 ],
 "metadata": {
  "kernelspec": {
   "display_name": "Python 3",
   "language": "python",
   "name": "python3"
  },
  "language_info": {
   "codemirror_mode": {
    "name": "ipython",
    "version": 3
   },
   "file_extension": ".py",
   "mimetype": "text/x-python",
   "name": "python",
   "nbconvert_exporter": "python",
   "pygments_lexer": "ipython3",
   "version": "3.11.1"
  },
  "orig_nbformat": 4
 },
 "nbformat": 4,
 "nbformat_minor": 2
}
