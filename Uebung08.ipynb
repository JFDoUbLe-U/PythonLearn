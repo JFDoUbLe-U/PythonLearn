{
 "cells": [
  {
   "cell_type": "code",
   "execution_count": 2,
   "metadata": {},
   "outputs": [],
   "source": [
    "import re"
   ]
  },
  {
   "cell_type": "code",
   "execution_count": 3,
   "metadata": {},
   "outputs": [
    {
     "name": "stdout",
     "output_type": "stream",
     "text": [
      "['Walter Hoppenstedt', 'Lieselotte Hoppenstedt', 'Dicki Hoppenstedt']\n"
     ]
    }
   ],
   "source": [
    "#Aufgabe 1.)\n",
    "target_aufg1 = \"Erwin Lindemann, Walter Hoppenstedt, Lieselotte Hoppenstedt, Heinrich Loose, Dicki Hoppenstedt, Gwyneth Molesworth\"\n",
    "pattern = r\"\\w+ Hoppenstedt\"\n",
    "res = re.findall(pattern,target_aufg1)\n",
    "print(res)"
   ]
  },
  {
   "cell_type": "code",
   "execution_count": 15,
   "metadata": {},
   "outputs": [
    {
     "name": "stdout",
     "output_type": "stream",
     "text": [
      "Match eins: 1\n",
      "Match zwei: 20\n",
      "Match drei: 314\n",
      "Non-match eins: 1EU\n",
      "Non-match zwei x2\n",
      "Non-match drei: 1x2\n",
      "\n",
      "['1', '20', '314']\n"
     ]
    }
   ],
   "source": [
    "#Aufgabe 2.)\n",
    "target = \"Match eins: 1\\nMatch zwei: 20\\nMatch drei: 314\\nNon-match eins: 1EU\\nNon-match zwei x2\\nNon-match drei: 1x2\\n\"\n",
    "print(target)\n",
    "pattern = r\"\\b\\d\\d*\\b\"              #Warum klappt hier auch \"\\b\\d+\\b\" ???\n",
    "res = re.findall(pattern,target)\n",
    "print(res)"
   ]
  }
 ],
 "metadata": {
  "kernelspec": {
   "display_name": "Python 3",
   "language": "python",
   "name": "python3"
  },
  "language_info": {
   "codemirror_mode": {
    "name": "ipython",
    "version": 3
   },
   "file_extension": ".py",
   "mimetype": "text/x-python",
   "name": "python",
   "nbconvert_exporter": "python",
   "pygments_lexer": "ipython3",
   "version": "3.12.0"
  }
 },
 "nbformat": 4,
 "nbformat_minor": 2
}
