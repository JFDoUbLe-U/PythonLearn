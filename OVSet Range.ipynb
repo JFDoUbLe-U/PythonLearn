{
 "cells": [
  {
   "cell_type": "code",
   "execution_count": 41,
   "metadata": {},
   "outputs": [],
   "source": [
    "def printa(*args):\n",
    "    for i in args:\n",
    "        print(i)"
   ]
  },
  {
   "cell_type": "code",
   "execution_count": 42,
   "metadata": {},
   "outputs": [
    {
     "name": "stdout",
     "output_type": "stream",
     "text": [
      "{1, 2, 3} \n",
      " {'2', 1, 3} \n",
      " {'3', 1, 0} \n",
      " {3, 4, 5, 7, 8, 10}\n"
     ]
    }
   ],
   "source": [
    "set1 = {1,2,3}\n",
    "set2 = set((1,\"2\",3))\n",
    "set3 = set((1,\"3\",0))\n",
    "set4 = set((5,4,3,8,7,10))\n",
    "print(set1,\"\\n\",set2,\"\\n\",set3,\"\\n\",set4)"
   ]
  },
  {
   "cell_type": "code",
   "execution_count": 43,
   "metadata": {},
   "outputs": [
    {
     "name": "stdout",
     "output_type": "stream",
     "text": [
      "Runde 2 :  3\n",
      "Runde 2 :  4\n",
      "Runde 2 :  5\n",
      "Runde 2 :  7\n",
      "Runde 2 :  8\n",
      "Runde 2 :  10\n",
      "\n",
      "\n",
      "Runde 1 :  3\n",
      "Runde 1 :  4\n",
      "Runde 1 :  5\n",
      "Runde 1 :  7\n",
      "Runde 1 :  8\n",
      "Runde 1 :  10\n",
      "\n",
      "\n"
     ]
    }
   ],
   "source": [
    "counter = 2\n",
    "while counter > 0:\n",
    "    for i in set4:\n",
    "        print(\"Runde\",counter,\": \",i)\n",
    "    counter -= 1\n",
    "    print(\"\\n\")"
   ]
  },
  {
   "cell_type": "code",
   "execution_count": 44,
   "metadata": {},
   "outputs": [
    {
     "name": "stdout",
     "output_type": "stream",
     "text": [
      "Geil alda, is drinne!\n"
     ]
    }
   ],
   "source": [
    "if 3 in set4:\n",
    "    print(\"Geil alda, is drinne!\")\n",
    "else:\n",
    "    print(\"Nö man diggi, is nich drinne!\")"
   ]
  },
  {
   "cell_type": "code",
   "execution_count": 45,
   "metadata": {},
   "outputs": [
    {
     "name": "stdout",
     "output_type": "stream",
     "text": [
      "{1, 2, 3}\n",
      "{3, 4, 5, 7, 8, 10}\n",
      "Union: {1, 2, 3, 4, 5, 7, 8, 10}\n",
      "Intersection None\n",
      "{3} {3, 4, 5, 7, 8, 10}\n"
     ]
    }
   ],
   "source": [
    "printa(set1,set4)\n",
    "unionset = set1.union(set4)\n",
    "print(\"Union:\",unionset)\n",
    "intersectionset = set1.intersection_update(set4)\n",
    "print(\"Intersection\",intersectionset)\n",
    "print(set1,set4)"
   ]
  },
  {
   "cell_type": "code",
   "execution_count": 46,
   "metadata": {},
   "outputs": [
    {
     "name": "stdout",
     "output_type": "stream",
     "text": [
      "5\n",
      "4\n",
      "3\n",
      "2\n",
      "1\n",
      "0\n"
     ]
    }
   ],
   "source": [
    "for i in reversed(range(6)):\n",
    "    print(i)"
   ]
  },
  {
   "cell_type": "code",
   "execution_count": 47,
   "metadata": {},
   "outputs": [
    {
     "name": "stdout",
     "output_type": "stream",
     "text": [
      "5\n",
      "3\n",
      "1\n"
     ]
    }
   ],
   "source": [
    "for k in range(5,0,-2):\n",
    "    print(k)"
   ]
  },
  {
   "cell_type": "code",
   "execution_count": 52,
   "metadata": {},
   "outputs": [
    {
     "name": "stdout",
     "output_type": "stream",
     "text": [
      "Printe Index 0 bis Index 9 exklusive: [1, 2, 3, 4, 5, 6, 7, 8, 9]\n",
      "1\n",
      "2\n",
      "3\n",
      "4\n",
      "5\n",
      "6\n",
      "7\n",
      "8\n",
      "9\n",
      "\n",
      "\n",
      "1\n",
      "2\n",
      "3\n",
      "4\n"
     ]
    }
   ],
   "source": [
    "list1 = [1,2,3,4,5,6,7,8,9]\n",
    "print(\"Printe Index 0 bis Index 9 exklusive:\",list1[0:9])\n",
    "\n",
    "for i in list1:\n",
    "    print(i)\n",
    "print(\"\\n\")\n",
    "for i in range(0,4):\n",
    "    print(list1[i])"
   ]
  },
  {
   "cell_type": "code",
   "execution_count": 66,
   "metadata": {},
   "outputs": [
    {
     "name": "stdout",
     "output_type": "stream",
     "text": [
      "1 \n",
      "2 2 \n",
      "3 3 3 \n",
      "\n",
      "1 \n",
      "1 2 \n",
      "1 2 3 \n",
      "1 2 3 4 \n",
      "1 2 3 4 5 \n"
     ]
    }
   ],
   "source": [
    "for i in range(1,4):\n",
    "    for k in range(i):\n",
    "        print(i, end=\" \")\n",
    "    print(\"\")\n",
    "    \n",
    "print(\"\")\n",
    "\n",
    "rows = 5\n",
    "for i in range(1, rows + 1):\n",
    "    for j in range(1, i + 1):\n",
    "        print(j, end=' ')\n",
    "    print('')"
   ]
  },
  {
   "cell_type": "code",
   "execution_count": 71,
   "metadata": {},
   "outputs": [
    {
     "name": "stdout",
     "output_type": "stream",
     "text": [
      "5 5 5 5 5 \n",
      "4 4 4 4 \n",
      "3 3 3 \n",
      "2 2 \n",
      "1 \n",
      "\n",
      "5\n"
     ]
    }
   ],
   "source": [
    "rows = 5\n",
    "num = rows\n",
    "for i in range(rows,0,-1):\n",
    "    for k in range(i):\n",
    "        print(num, end=\" \")\n",
    "    num -= 1\n",
    "    print(\"\")\n",
    "print(\"\")\n",
    "\n",
    "print(rows)"
   ]
  },
  {
   "cell_type": "code",
   "execution_count": 75,
   "metadata": {},
   "outputs": [
    {
     "name": "stdout",
     "output_type": "stream",
     "text": [
      "[1, 2, 3, 4, 5, 6, 7, 8, 9]\n",
      "9\n",
      "8\n",
      "7\n",
      "6\n",
      "5\n",
      "4\n",
      "3\n",
      "2\n",
      "1\n"
     ]
    }
   ],
   "source": [
    "print(list1)\n",
    "for i in range(len(list1),0,-1):\n",
    "    print(i)"
   ]
  }
 ],
 "metadata": {
  "kernelspec": {
   "display_name": "Python 3",
   "language": "python",
   "name": "python3"
  },
  "language_info": {
   "codemirror_mode": {
    "name": "ipython",
    "version": 3
   },
   "file_extension": ".py",
   "mimetype": "text/x-python",
   "name": "python",
   "nbconvert_exporter": "python",
   "pygments_lexer": "ipython3",
   "version": "3.12.0"
  }
 },
 "nbformat": 4,
 "nbformat_minor": 2
}
