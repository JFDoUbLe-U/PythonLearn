{
 "cells": [
  {
   "cell_type": "code",
   "execution_count": 76,
   "metadata": {},
   "outputs": [],
   "source": [
    "def printa(*args):\n",
    "    for i in args:\n",
    "        print(i)"
   ]
  },
  {
   "cell_type": "code",
   "execution_count": 77,
   "metadata": {},
   "outputs": [
    {
     "name": "stdout",
     "output_type": "stream",
     "text": [
      "{1, 2, 3} \n",
      " {3, 1, '2'} \n",
      " {0, 1, '3'} \n",
      " {3, 4, 5, 7, 8, 10}\n"
     ]
    }
   ],
   "source": [
    "set1 = {1,2,3}\n",
    "set2 = set((1,\"2\",3))\n",
    "set3 = set((1,\"3\",0))\n",
    "set4 = set((5,4,3,8,7,10))\n",
    "print(set1,\"\\n\",set2,\"\\n\",set3,\"\\n\",set4)"
   ]
  },
  {
   "cell_type": "code",
   "execution_count": 78,
   "metadata": {},
   "outputs": [
    {
     "name": "stdout",
     "output_type": "stream",
     "text": [
      "Runde 2 :  3\n",
      "Runde 2 :  4\n",
      "Runde 2 :  5\n",
      "Runde 2 :  7\n",
      "Runde 2 :  8\n",
      "Runde 2 :  10\n",
      "\n",
      "\n",
      "Runde 1 :  3\n",
      "Runde 1 :  4\n",
      "Runde 1 :  5\n",
      "Runde 1 :  7\n",
      "Runde 1 :  8\n",
      "Runde 1 :  10\n",
      "\n",
      "\n"
     ]
    }
   ],
   "source": [
    "counter = 2\n",
    "while counter > 0:\n",
    "    for i in set4:\n",
    "        print(\"Runde\",counter,\": \",i)\n",
    "    counter -= 1\n",
    "    print(\"\\n\")"
   ]
  },
  {
   "cell_type": "code",
   "execution_count": 79,
   "metadata": {},
   "outputs": [
    {
     "name": "stdout",
     "output_type": "stream",
     "text": [
      "Geil alda, is drinne!\n"
     ]
    }
   ],
   "source": [
    "if 3 in set4:\n",
    "    print(\"Geil alda, is drinne!\")\n",
    "else:\n",
    "    print(\"Nö man diggi, is nich drinne!\")"
   ]
  },
  {
   "cell_type": "code",
   "execution_count": 80,
   "metadata": {},
   "outputs": [
    {
     "name": "stdout",
     "output_type": "stream",
     "text": [
      "{1, 2, 3}\n",
      "{3, 4, 5, 7, 8, 10}\n",
      "Union: {1, 2, 3, 4, 5, 7, 8, 10}\n",
      "Intersection None\n",
      "{3} {3, 4, 5, 7, 8, 10}\n"
     ]
    }
   ],
   "source": [
    "printa(set1,set4)\n",
    "unionset = set1.union(set4)\n",
    "print(\"Union:\",unionset)\n",
    "intersectionset = set1.intersection_update(set4)\n",
    "print(\"Intersection\",intersectionset)\n",
    "print(set1,set4)"
   ]
  },
  {
   "cell_type": "code",
   "execution_count": null,
   "metadata": {},
   "outputs": [],
   "source": [
    " "
   ]
  }
 ],
 "metadata": {
  "kernelspec": {
   "display_name": "Python 3",
   "language": "python",
   "name": "python3"
  },
  "language_info": {
   "codemirror_mode": {
    "name": "ipython",
    "version": 3
   },
   "file_extension": ".py",
   "mimetype": "text/x-python",
   "name": "python",
   "nbconvert_exporter": "python",
   "pygments_lexer": "ipython3",
   "version": "3.12.0"
  }
 },
 "nbformat": 4,
 "nbformat_minor": 2
}
