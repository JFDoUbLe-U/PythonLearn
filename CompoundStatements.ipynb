{
 "cells": [
  {
   "cell_type": "code",
   "execution_count": 1,
   "metadata": {},
   "outputs": [],
   "source": [
    "Liste = list([0,1,2,3])\n",
    "Dict = dict({\"Eins\":1,\"Zwei\":2,\"Drei\":3})"
   ]
  },
  {
   "cell_type": "code",
   "execution_count": 2,
   "metadata": {},
   "outputs": [
    {
     "name": "stdout",
     "output_type": "stream",
     "text": [
      "True\n",
      "True\n",
      "True\n",
      "True\n"
     ]
    }
   ],
   "source": [
    "for i in Liste:\n",
    "    if Liste[i]+1 > 0:\n",
    "        print(True)\n",
    "    else:\n",
    "        print(False)"
   ]
  },
  {
   "cell_type": "code",
   "execution_count": 3,
   "metadata": {},
   "outputs": [
    {
     "name": "stdout",
     "output_type": "stream",
     "text": [
      "60 seconds remaining before start.\n",
      "59 seconds remaining before start.\n",
      "58 seconds remaining before start.\n",
      "57 seconds remaining before start.\n",
      "56 seconds remaining before start.\n",
      "55 seconds remaining before start.\n",
      "54 seconds remaining before start.\n",
      "53 seconds remaining before start.\n",
      "52 seconds remaining before start.\n",
      "51 seconds remaining before start.\n",
      "50 seconds remaining before start.\n",
      "49 seconds remaining before start.\n",
      "48 seconds remaining before start.\n",
      "47 seconds remaining before start.\n",
      "46 seconds remaining before start.\n",
      "45 seconds remaining before start.\n",
      "44 seconds remaining before start.\n",
      "43 seconds remaining before start.\n",
      "42 seconds remaining before start.\n",
      "41 seconds remaining before start.\n",
      "40 seconds remaining before start.\n",
      "LAUNCH CONTROL: Security check is over. Everything looks good!\n",
      "39 seconds remaining before start.\n",
      "38 seconds remaining before start.\n",
      "37 seconds remaining before start.\n",
      "36 seconds remaining before start.\n",
      "35 seconds remaining before start.\n",
      "34 seconds remaining before start.\n",
      "33 seconds remaining before start.\n",
      "32 seconds remaining before start.\n",
      "31 seconds remaining before start.\n",
      "30 seconds remaining before start.\n",
      "LAUNCH CONTROL: Waterpumps are running!\n",
      "29 seconds remaining before start.\n",
      "28 seconds remaining before start.\n",
      "27 seconds remaining before start.\n",
      "26 seconds remaining before start.\n",
      "25 seconds remaining before start.\n",
      "24 seconds remaining before start.\n",
      "23 seconds remaining before start.\n",
      "22 seconds remaining before start.\n",
      "21 seconds remaining before start.\n",
      "20 seconds remaining before start.\n",
      "LAUNCH CONTROL: Engine prestart ist running!\n",
      "19 seconds remaining before start.\n",
      "18 seconds remaining before start.\n",
      "17 seconds remaining before start.\n",
      "16 seconds remaining before start.\n",
      "15 seconds remaining before start.\n",
      "14 seconds remaining before start.\n",
      "13 seconds remaining before start.\n",
      "12 seconds remaining before start.\n",
      "11 seconds remaining before start.\n",
      "10 seconds remaining before start.\n",
      "9 seconds remaining before start.\n",
      "8 seconds remaining before start.\n",
      "7 seconds remaining before start.\n",
      "6 seconds remaining before start.\n",
      "5 seconds remaining before start.\n",
      "LAUNCH CONTROL: Booster launched!\n",
      "4 seconds remaining before start.\n",
      "3 seconds remaining before start.\n",
      "2 seconds remaining before start.\n",
      "1 seconds remaining before start.\n",
      "0 seconds remaining before start.\n",
      "LAUNCH CONTROL: Ready for takeoff. Falcon start!\n"
     ]
    }
   ],
   "source": [
    "t = 60\n",
    "while t>=0:\n",
    "    print(t,\"seconds remaining before start.\")\n",
    "    if t == 40:\n",
    "        print(\"LAUNCH CONTROL: Security check is over. Everything looks good!\")\n",
    "    if t == 30:\n",
    "        print(\"LAUNCH CONTROL: Waterpumps are running!\")\n",
    "    if t == 20:\n",
    "        print(\"LAUNCH CONTROL: Engine prestart ist running!\")\n",
    "    if t == 5:\n",
    "        print(\"LAUNCH CONTROL: Booster launched!\")\n",
    "    if t == 0:\n",
    "        print(\"LAUNCH CONTROL: Ready for takeoff. Falcon start!\")\n",
    "    t -= 1"
   ]
  },
  {
   "cell_type": "code",
   "execution_count": 4,
   "metadata": {},
   "outputs": [
    {
     "name": "stdout",
     "output_type": "stream",
     "text": [
      "60 seconds remaining before start.\n",
      "59 seconds remaining before start.\n",
      "58 seconds remaining before start.\n",
      "57 seconds remaining before start.\n",
      "56 seconds remaining before start.\n",
      "55 seconds remaining before start.\n",
      "54 seconds remaining before start.\n",
      "53 seconds remaining before start.\n",
      "52 seconds remaining before start.\n",
      "51 seconds remaining before start.\n",
      "50 seconds remaining before start.\n",
      "49 seconds remaining before start.\n",
      "48 seconds remaining before start.\n",
      "47 seconds remaining before start.\n",
      "46 seconds remaining before start.\n",
      "45 seconds remaining before start.\n",
      "44 seconds remaining before start.\n",
      "43 seconds remaining before start.\n",
      "42 seconds remaining before start.\n",
      "41 seconds remaining before start.\n",
      "40 seconds remaining before start.\n",
      "LAUNCH CONTROL: Security check is over. Everything looks good!\n",
      "39 seconds remaining before start.\n",
      "38 seconds remaining before start.\n",
      "37 seconds remaining before start.\n",
      "36 seconds remaining before start.\n",
      "35 seconds remaining before start.\n",
      "34 seconds remaining before start.\n",
      "33 seconds remaining before start.\n",
      "32 seconds remaining before start.\n",
      "31 seconds remaining before start.\n",
      "30 seconds remaining before start.\n",
      "LAUNCH CONTROL: Waterpumps are running!\n",
      "29 seconds remaining before start.\n",
      "28 seconds remaining before start.\n",
      "27 seconds remaining before start.\n",
      "26 seconds remaining before start.\n",
      "25 seconds remaining before start.\n",
      "24 seconds remaining before start.\n",
      "23 seconds remaining before start.\n",
      "22 seconds remaining before start.\n",
      "21 seconds remaining before start.\n",
      "20 seconds remaining before start.\n",
      "LAUNCH CONTROL: Engine prestart ist running!\n",
      "19 seconds remaining before start.\n",
      "18 seconds remaining before start.\n",
      "17 seconds remaining before start.\n",
      "16 seconds remaining before start.\n",
      "15 seconds remaining before start.\n",
      "14 seconds remaining before start.\n",
      "13 seconds remaining before start.\n",
      "12 seconds remaining before start.\n",
      "11 seconds remaining before start.\n",
      "10 seconds remaining before start.\n",
      "9 seconds remaining before start.\n",
      "8 seconds remaining before start.\n",
      "7 seconds remaining before start.\n",
      "6 seconds remaining before start.\n",
      "5 seconds remaining before start.\n",
      "LAUNCH CONTROL: Booster launched!\n",
      "4 seconds remaining before start.\n",
      "3 seconds remaining before start.\n",
      "2 seconds remaining before start.\n",
      "1 seconds remaining before start.\n",
      "0 seconds remaining before start.\n",
      "LAUNCH CONTROL: Ready for takeoff. Falcon start!\n"
     ]
    }
   ],
   "source": [
    "t = 60\n",
    "while t>=0:\n",
    "    print(t,\"seconds remaining before start.\")\n",
    "    match t:\n",
    "        case 40:\n",
    "            print(\"LAUNCH CONTROL: Security check is over. Everything looks good!\")\n",
    "        case 30:\n",
    "            print(\"LAUNCH CONTROL: Waterpumps are running!\")\n",
    "        case 20:\n",
    "            print(\"LAUNCH CONTROL: Engine prestart ist running!\")\n",
    "        case 5:\n",
    "            print(\"LAUNCH CONTROL: Booster launched!\")\n",
    "        case 0:\n",
    "            print(\"LAUNCH CONTROL: Ready for takeoff. Falcon start!\")\n",
    "    t -= 1"
   ]
  },
  {
   "cell_type": "code",
   "execution_count": 5,
   "metadata": {},
   "outputs": [
    {
     "name": "stdout",
     "output_type": "stream",
     "text": [
      "60 seconds remaining before start.\n",
      "59 seconds remaining before start.\n",
      "58 seconds remaining before start.\n",
      "57 seconds remaining before start.\n",
      "56 seconds remaining before start.\n",
      "55 seconds remaining before start.\n",
      "54 seconds remaining before start.\n",
      "53 seconds remaining before start.\n",
      "52 seconds remaining before start.\n",
      "51 seconds remaining before start.\n",
      "50 seconds remaining before start.\n",
      "49 seconds remaining before start.\n",
      "48 seconds remaining before start.\n",
      "47 seconds remaining before start.\n",
      "46 seconds remaining before start.\n",
      "45 seconds remaining before start.\n",
      "44 seconds remaining before start.\n",
      "43 seconds remaining before start.\n",
      "42 seconds remaining before start.\n",
      "41 seconds remaining before start.\n",
      "40 seconds remaining before start.\n",
      "LAUNCH CONTROL: Security check is over. Everything looks good!\n",
      "39 seconds remaining before start.\n",
      "38 seconds remaining before start.\n",
      "37 seconds remaining before start.\n",
      "36 seconds remaining before start.\n",
      "35 seconds remaining before start.\n",
      "34 seconds remaining before start.\n",
      "33 seconds remaining before start.\n",
      "32 seconds remaining before start.\n",
      "31 seconds remaining before start.\n",
      "30 seconds remaining before start.\n",
      "LAUNCH CONTROL: Waterpumps are running!\n",
      "29 seconds remaining before start.\n",
      "28 seconds remaining before start.\n",
      "27 seconds remaining before start.\n",
      "26 seconds remaining before start.\n",
      "25 seconds remaining before start.\n",
      "24 seconds remaining before start.\n",
      "23 seconds remaining before start.\n",
      "22 seconds remaining before start.\n",
      "21 seconds remaining before start.\n",
      "20 seconds remaining before start.\n",
      "LAUNCH CONTROL: Engine prestart ist running!\n",
      "19 seconds remaining before start.\n",
      "18 seconds remaining before start.\n",
      "17 seconds remaining before start.\n",
      "16 seconds remaining before start.\n",
      "15 seconds remaining before start.\n",
      "14 seconds remaining before start.\n",
      "13 seconds remaining before start.\n",
      "12 seconds remaining before start.\n",
      "11 seconds remaining before start.\n",
      "10 seconds remaining before start.\n",
      "9 seconds remaining before start.\n",
      "8 seconds remaining before start.\n",
      "7 seconds remaining before start.\n",
      "6 seconds remaining before start.\n",
      "5 seconds remaining before start.\n",
      "LAUNCH CONTROL: Booster launched!\n",
      "4 seconds remaining before start.\n",
      "3 seconds remaining before start.\n",
      "2 seconds remaining before start.\n",
      "1 seconds remaining before start.\n",
      "0 seconds remaining before start.\n",
      "LAUNCH CONTROL: Ready for takeoff. Falcon start!\n"
     ]
    }
   ],
   "source": [
    "LaunchControl = {40:\"LAUNCH CONTROL: Security check is over. Everything looks good!\",\n",
    "                 30:\"LAUNCH CONTROL: Waterpumps are running!\",\n",
    "                 20:\"LAUNCH CONTROL: Engine prestart ist running!\",\n",
    "                 5:\"LAUNCH CONTROL: Booster launched!\",\n",
    "                 0:\"LAUNCH CONTROL: Ready for takeoff. Falcon start!\"}\n",
    "\n",
    "t = 60\n",
    "\n",
    "while t>=0:\n",
    "    print(t,\"seconds remaining before start.\")\n",
    "    if t in LaunchControl:\n",
    "        print(LaunchControl[t])\n",
    "    t -= 1"
   ]
  },
  {
   "cell_type": "code",
   "execution_count": 6,
   "metadata": {},
   "outputs": [
    {
     "name": "stdout",
     "output_type": "stream",
     "text": [
      "H = 72 in Unicode\n",
      "a = 97 in Unicode\n",
      "l = 108 in Unicode\n",
      "l = 108 in Unicode\n",
      "o = 111 in Unicode\n"
     ]
    }
   ],
   "source": [
    "String1 = \"Hallo\"\n",
    "for i in String1:\n",
    "    print(i,\"=\",ord(i),\"in Unicode\")"
   ]
  },
  {
   "cell_type": "code",
   "execution_count": 2,
   "metadata": {},
   "outputs": [
    {
     "name": "stdout",
     "output_type": "stream",
     "text": [
      "unsupported operand type(s) for +=: 'int' and 'str'\n"
     ]
    }
   ],
   "source": [
    "try:\n",
    "    i = 5\n",
    "    i += \"A\"\n",
    "    print(i)\n",
    "except TypeError as e:\n",
    "    print(\"Gone wrong - TypeError\",e)\n",
    "except SyntaxError:\n",
    "    print(\"Gone wrong - SyntaxError\")\n",
    "finally:\n",
    "    pass"
   ]
  },
  {
   "cell_type": "code",
   "execution_count": 8,
   "metadata": {},
   "outputs": [],
   "source": [
    "with open('file-path', 'w') as file: \n",
    "    file.write('Lorem ipsum\\n123') \n",
    "\n",
    "#Instead of:\n",
    "# file = open('file-path', 'w') \n",
    "# try: \n",
    "#     file.write('Lorem ipsum') \n",
    "# finally: \n",
    "#     file.close() "
   ]
  },
  {
   "cell_type": "code",
   "execution_count": 9,
   "metadata": {},
   "outputs": [
    {
     "name": "stdout",
     "output_type": "stream",
     "text": [
      "hi 10\n",
      "hi 9\n",
      "hi 8\n",
      "hi 7\n",
      "hi 6\n",
      "Continue exe\n",
      "hi 4\n",
      "hi 3\n",
      "hi 2\n",
      "hi 1\n"
     ]
    }
   ],
   "source": [
    "i = 10\n",
    "while i > 0:\n",
    "    if i == 5:\n",
    "        print(\"Continue exe\")\n",
    "        i -= 1\n",
    "        continue\n",
    "    if i == 5:\n",
    "        print(\"Break exe\")\n",
    "        break\n",
    "    print(\"hi\",i)\n",
    "    i -= 1"
   ]
  }
 ],
 "metadata": {
  "kernelspec": {
   "display_name": "Python 3",
   "language": "python",
   "name": "python3"
  },
  "language_info": {
   "codemirror_mode": {
    "name": "ipython",
    "version": 3
   },
   "file_extension": ".py",
   "mimetype": "text/x-python",
   "name": "python",
   "nbconvert_exporter": "python",
   "pygments_lexer": "ipython3",
   "version": "3.12.0"
  }
 },
 "nbformat": 4,
 "nbformat_minor": 2
}
