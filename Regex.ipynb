{
 "cells": [
  {
   "cell_type": "code",
   "execution_count": 1,
   "metadata": {},
   "outputs": [
    {
     "name": "stdout",
     "output_type": "stream",
     "text": [
      "without raw string:\n",
      "c:\\example\\task\\new\n"
     ]
    }
   ],
   "source": [
    "import re\n",
    "\n",
    "print(\"without raw string:\")\n",
    "# path_to_search = \"c:\\example\\task\\new\"\n",
    "target_string = r\"c:\\example\\task\\new\\exercises\\session1\"\n",
    "\n",
    "# regex pattern\n",
    "pattern = r\"^c:\\\\example\\\\task\\\\new\"\n",
    "# \\n and \\t has a special meaning in Python\n",
    "# Python will treat them differently\n",
    "res = re.search(pattern, target_string)\n",
    "print(res.group())"
   ]
  },
  {
   "cell_type": "code",
   "execution_count": 2,
   "metadata": {},
   "outputs": [],
   "source": [
    "def resput(res):\n",
    "    out = \"\"\n",
    "    for i in res:\n",
    "        out += i\n",
    "    return out"
   ]
  },
  {
   "cell_type": "code",
   "execution_count": 3,
   "metadata": {},
   "outputs": [
    {
     "name": "stdout",
     "output_type": "stream",
     "text": [
      "23\n",
      "23\n"
     ]
    }
   ],
   "source": [
    "target_str = \"Hallo ich bin Janis und 23 Jahre alt.\"\n",
    "res = re.findall(r\"\\d\", target_str)\n",
    "print(res[0]+res[1])\n",
    "print(resput(res))"
   ]
  },
  {
   "cell_type": "code",
   "execution_count": 4,
   "metadata": {},
   "outputs": [
    {
     "name": "stdout",
     "output_type": "stream",
     "text": [
      "['Hallo']\n"
     ]
    }
   ],
   "source": [
    "target_str = \"Hallo ich bin Janis und 23 Jahre alt.\"\n",
    "res = re.findall(r\"Hallo\", target_str)\n",
    "print(res)"
   ]
  },
  {
   "cell_type": "code",
   "execution_count": 5,
   "metadata": {},
   "outputs": [
    {
     "name": "stdout",
     "output_type": "stream",
     "text": [
      "<class 're.Pattern'> re.compile('Patterntext')\n"
     ]
    }
   ],
   "source": [
    "#re.compile -> Macht den Pattern Text zu einem re.compile object\n",
    "patternobj = re.compile(\"Patterntext\")\n",
    "print(type(patternobj),patternobj)"
   ]
  },
  {
   "cell_type": "code",
   "execution_count": 6,
   "metadata": {},
   "outputs": [
    {
     "name": "stdout",
     "output_type": "stream",
     "text": [
      "Janis <re.Match object; span=(0, 5), match='Janis'>\n"
     ]
    }
   ],
   "source": [
    "#re.search -> Sucht den Pattern Text im Target und gibt aus, wo sich das erste Aufkommen des Pattern im Target befindet und das match selber. None falls er nichts findet.\n",
    "pattern = \"Janis\"\n",
    "target = \"Janis Alle lieben J anis, weil Janis so freundlich ist.\"\n",
    "ausgabe = re.search(pattern, target)\n",
    "print(ausgabe.group(), ausgabe)"
   ]
  },
  {
   "cell_type": "code",
   "execution_count": 7,
   "metadata": {},
   "outputs": [
    {
     "name": "stdout",
     "output_type": "stream",
     "text": [
      "Janis <re.Match object; span=(0, 5), match='Janis'>\n"
     ]
    }
   ],
   "source": [
    "#re.match -> Prüft, ob sich das pattern am Anfang des Targets befindet und gibt Position und Match aus. None, falls er nichts findet.\n",
    "ausgabe = re.match(pattern,target)\n",
    "print(ausgabe.group(), ausgabe)\n"
   ]
  },
  {
   "cell_type": "code",
   "execution_count": 8,
   "metadata": {},
   "outputs": [
    {
     "name": "stdout",
     "output_type": "stream",
     "text": [
      "Alle <re.Match object; span=(0, 4), match='Alle'>\n"
     ]
    }
   ],
   "source": [
    "#re.fullmatch -> Macht das gleiche, aber das Pattern muss mit dem gesamten target übereinstimmen. None, falls nicht.\n",
    "pattern = (\"Alle\")\n",
    "target = (\"Alle\")\n",
    "ausgabe = re.fullmatch(pattern, target)\n",
    "print(ausgabe.group(), ausgabe)"
   ]
  },
  {
   "cell_type": "code",
   "execution_count": 49,
   "metadata": {},
   "outputs": [
    {
     "name": "stdout",
     "output_type": "stream",
     "text": [
      "['123', '123', '123', '123']\n"
     ]
    }
   ],
   "source": [
    "#re.findall -> Sucht nach dem pattern im target und gibt jedes gefundene pattern im target in einer Liste aus. Wenn das target ein Teil eines Wortes oder einer Zahl ist, wird nur das pattern ausgegeben. Returnt leere Liste falls er nichts findet.\n",
    "pattern = \"123\"\n",
    "target = \"Hallo 123 ich bin 123 aber123 auch 1234\"\n",
    "ausgabe = re.findall(pattern, target)\n",
    "print(ausgabe)"
   ]
  },
  {
   "cell_type": "code",
   "execution_count": 56,
   "metadata": {},
   "outputs": [
    {
     "name": "stdout",
     "output_type": "stream",
     "text": [
      "<re.Match object; span=(6, 9), match='123'>\n",
      "<re.Match object; span=(18, 21), match='123'>\n",
      "<re.Match object; span=(26, 29), match='123'>\n",
      "<re.Match object; span=(35, 38), match='123'>\n",
      "<class 'callable_iterator'>\n"
     ]
    }
   ],
   "source": [
    "#re.finditer -> Macht findall und erstellt ein callable iterator object und gibt beim drüber iterieren die matches zurück.\n",
    "pattern = \"123\"\n",
    "target = \"Hallo 123 ich bin 123 aber123 auch 1234\"\n",
    "ausgabe = re.finditer(pattern, target)\n",
    "for i in ausgabe:\n",
    "    print(i)\n",
    "print(type(ausgabe))"
   ]
  },
  {
   "cell_type": "code",
   "execution_count": 57,
   "metadata": {},
   "outputs": [
    {
     "name": "stdout",
     "output_type": "stream",
     "text": [
      "['Hallo ', ' ich bin ', ' aber', ' auch ', '4']\n"
     ]
    }
   ],
   "source": [
    "#re.split -> Gibt eine Liste zurück, mit Elementen des targets, getrennt durch die matches.\n",
    "pattern = \"123\"\n",
    "target = \"Hallo 123 ich bin 123 aber123 auch 1234\"\n",
    "ausgabe = re.split(pattern,target)\n",
    "print(ausgabe)"
   ]
  },
  {
   "cell_type": "code",
   "execution_count": 31,
   "metadata": {},
   "outputs": [
    {
     "name": "stdout",
     "output_type": "stream",
     "text": [
      "Hallo 456 ich bin 456 aber123 auch 1234\n"
     ]
    }
   ],
   "source": [
    "#re.sub -> Ersetzt das Pattern im Target x-mal. Gibt einen String aus.\n",
    "pattern = \"123\"\n",
    "target = \"Hallo 123 ich bin 123 aber123 auch 1234\"\n",
    "ausgabe = re.sub(pattern,\"456\",target,2)\n",
    "print(ausgabe)"
   ]
  },
  {
   "cell_type": "code",
   "execution_count": 36,
   "metadata": {},
   "outputs": [
    {
     "name": "stdout",
     "output_type": "stream",
     "text": [
      "('Hallo 456 ich bin 456 aber456 auch 4564', 4)\n"
     ]
    }
   ],
   "source": [
    "#re.subn -> Wie sub aber erstellt ein Tupel mit dem neuen String und der Anzahl an tatsächlich durchgeführten replacements.\n",
    "pattern = \"123\"\n",
    "target = \"Hallo 123 ich bin 123 aber123 auch 1234\"\n",
    "ausgabe = re.subn(pattern,\"456\",target,8)\n",
    "print(ausgabe)"
   ]
  },
  {
   "cell_type": "code",
   "execution_count": 42,
   "metadata": {},
   "outputs": [
    {
     "name": "stdout",
     "output_type": "stream",
     "text": [
      "Hallo, mein Name ist Janis Wiesen und ich bin 23 Jahre alt.\n",
      "Group(): 2  Objekt: <re.Match object; span=(46, 47), match='2'>\n"
     ]
    }
   ],
   "source": [
    "#Statt mit re.search(pattern,target) zu suchen, kann das pattern auch in ein re.compile Objekt umgewandelt werden, um damit zu suchen.\n",
    "target_string = \"Hallo, mein Name ist Janis Wiesen und ich bin 23 Jahre alt.\"\n",
    "print(target_string)\n",
    "str_pattern = r\"\\d\" #\\w = any char\n",
    "re_pattern = re.compile(str_pattern)\n",
    "ausgabe = re_pattern.search(target_string)\n",
    "print(\"Group():\",ausgabe.group(),\" Objekt:\",ausgabe)"
   ]
  },
  {
   "cell_type": "code",
   "execution_count": 40,
   "metadata": {},
   "outputs": [
    {
     "name": "stdout",
     "output_type": "stream",
     "text": [
      "0\n"
     ]
    }
   ],
   "source": [
    "#group() und groups()\n",
    "# print(ausgabe.group(),ausgabe.groups())"
   ]
  },
  {
   "cell_type": "code",
   "execution_count": 47,
   "metadata": {},
   "outputs": [
    {
     "name": "stdout",
     "output_type": "stream",
     "text": [
      "46\n",
      "47\n",
      "(46, 47)\n"
     ]
    }
   ],
   "source": [
    "#start() returnt den Startindex des Matches im target\n",
    "print(ausgabe.start())\n",
    "#end() returnt die letzte Indexstelle des Matches im target\n",
    "print(ausgabe.end())\n",
    "#span()\n",
    "print(ausgabe.span())"
   ]
  },
  {
   "cell_type": "code",
   "execution_count": 68,
   "metadata": {},
   "outputs": [
    {
     "name": "stdout",
     "output_type": "stream",
     "text": [
      "\n",
      "Hallo, mein Name ist Janis Wiesen und ich bin 23 Jahre alt.\n",
      "<re.Match object; span=(1, 2), match='H'> (1, 2)\n"
     ]
    }
   ],
   "source": [
    "#. matched jeden char außer NEWLINE und gibt den ersten gefundenen zurück\n",
    "target_string = \"\\nHallo, mein Name ist Janis Wiesen und ich bin 23 Jahre alt.\"\n",
    "print(target_string)\n",
    "str_pattern = r\".\"\n",
    "ausgabe = re.search(str_pattern,target_string)\n",
    "print(ausgabe,ausgabe.span())"
   ]
  },
  {
   "cell_type": "code",
   "execution_count": 76,
   "metadata": {},
   "outputs": [
    {
     "name": "stdout",
     "output_type": "stream",
     "text": [
      "123Hallo, mein Name ist Janis Wiesen und ich bin 23 Jahre alt.\n",
      "<re.Match object; span=(0, 1), match='1'> 1\n"
     ]
    }
   ],
   "source": [
    "#^ SAME AS \\A Matched nur, wenn das Pattern am Anfang des Strings steht. Ergibt vor Allem in Kombination mit anderen Parametern Sinn!\n",
    "target_string = \"123Hallo, mein Name ist Janis Wiesen und ich bin 23 Jahre alt.\"\n",
    "print(target_string)\n",
    "str_pattern = r\"^\\d\"\n",
    "ausgabe = re.search(str_pattern,target_string)\n",
    "print(ausgabe,ausgabe.group())"
   ]
  },
  {
   "cell_type": "code",
   "execution_count": 95,
   "metadata": {},
   "outputs": [
    {
     "name": "stdout",
     "output_type": "stream",
     "text": [
      "\n",
      "123Hallo, mein Name ist Janis Wiesen und ich bin 23 Jahre alt123.\n",
      "<re.Match object; span=(65, 66), match='.'> .\n"
     ]
    }
   ],
   "source": [
    "#$ SAME AS \\Z wie ^ aber am Ende des Strings.\n",
    "target_string = \"\\n123Hallo, mein Name ist Janis Wiesen und ich bin 23 Jahre alt123.\"\n",
    "print(target_string)\n",
    "str_pattern = r\"\\D$\"\n",
    "ausgabe = re.search(str_pattern,target_string)\n",
    "print(ausgabe,ausgabe.group())"
   ]
  },
  {
   "cell_type": "code",
   "execution_count": 108,
   "metadata": {},
   "outputs": [
    {
     "name": "stdout",
     "output_type": "stream",
     "text": [
      "['8', '23', '886', '4567', '78453']\n"
     ]
    }
   ],
   "source": [
    "#* Alles was 0 oder mehr Wiederholungen hat. Kann kombiniert werden.\n",
    "str1 = \"Numbers are 8,23, 886, 4567, 78453\"\n",
    "# asterisk sign(*) to match 0 or more repetitions\n",
    "\n",
    "result = re.findall(r\"\\d\\d*\", str1)\n",
    "print(result)"
   ]
  },
  {
   "cell_type": "code",
   "execution_count": 114,
   "metadata": {},
   "outputs": [
    {
     "name": "stdout",
     "output_type": "stream",
     "text": [
      "['23', '886', '4567', '78453']\n"
     ]
    }
   ],
   "source": [
    "#+  Wie * aber 1 oder mehr Wiederholungen. Kann kombiniert werden.\n",
    "str1 = \"Numbers are 8,23, 886, 4567, 78453\"\n",
    "\n",
    "result = re.findall(r\"\\d\\d+\", str1)\n",
    "print(result)"
   ]
  },
  {
   "cell_type": "code",
   "execution_count": 115,
   "metadata": {},
   "outputs": [
    {
     "name": "stdout",
     "output_type": "stream",
     "text": [
      "['8', '23', '88', '6', '45', '67', '78', '45', '3']\n"
     ]
    }
   ],
   "source": [
    "#? Wie * und + aber 0 oder 1 Wiederholungen\n",
    "str1 = \"Numbers are 8,23, 886, 4567, 78453\"\n",
    "\n",
    "result = re.findall(r\"\\d\\d?\", str1)\n",
    "print(result)"
   ]
  },
  {
   "cell_type": "code",
   "execution_count": 118,
   "metadata": {},
   "outputs": [
    {
     "name": "stdout",
     "output_type": "stream",
     "text": [
      "['u', 'm', 'b', 'a', '2']\n"
     ]
    }
   ],
   "source": [
    "#[] Sucht nach dem Set bestehend aus chars\n",
    "str1 = \"Numbers are 8,23, 886, 4567, 78453\"\n",
    "# asterisk sign(*) to match 0 or more repetitions\n",
    "\n",
    "result = re.findall(r\"[uamb2]\", str1)\n",
    "print(result)"
   ]
  },
  {
   "cell_type": "code",
   "execution_count": 119,
   "metadata": {},
   "outputs": [
    {
     "ename": "TypeError",
     "evalue": "unsupported operand type(s) for |: 'str' and 'str'",
     "output_type": "error",
     "traceback": [
      "\u001b[1;31m---------------------------------------------------------------------------\u001b[0m",
      "\u001b[1;31mTypeError\u001b[0m                                 Traceback (most recent call last)",
      "Cell \u001b[1;32mIn[119], line 6\u001b[0m\n\u001b[0;32m      4\u001b[0m pat1 \u001b[38;5;241m=\u001b[39m \u001b[38;5;124mr\u001b[39m\u001b[38;5;124m\"\u001b[39m\u001b[38;5;124m\\\u001b[39m\u001b[38;5;124md\u001b[39m\u001b[38;5;124m\\\u001b[39m\u001b[38;5;124md*\u001b[39m\u001b[38;5;124m\"\u001b[39m\n\u001b[0;32m      5\u001b[0m pat2 \u001b[38;5;241m=\u001b[39m \u001b[38;5;124mr\u001b[39m\u001b[38;5;124m\"\u001b[39m\u001b[38;5;124m\\\u001b[39m\u001b[38;5;124md\u001b[39m\u001b[38;5;124m\\\u001b[39m\u001b[38;5;124md+\u001b[39m\u001b[38;5;124m\"\u001b[39m\n\u001b[1;32m----> 6\u001b[0m result \u001b[38;5;241m=\u001b[39m re\u001b[38;5;241m.\u001b[39mfindall(\u001b[43mpat1\u001b[49m\u001b[38;5;241;43m|\u001b[39;49m\u001b[43mpat2\u001b[49m, str1)\n\u001b[0;32m      7\u001b[0m \u001b[38;5;28mprint\u001b[39m(result)\n",
      "\u001b[1;31mTypeError\u001b[0m: unsupported operand type(s) for |: 'str' and 'str'"
     ]
    }
   ],
   "source": [
    "#| wird genutzt um nach mehreren Pattern zu suchen.\n",
    "str1 = \"Numbers are 8,23, 886, 4567, 78453\"\n",
    "# asterisk sign(*) to match 0 or more repetitions\n",
    "pat1 = r\"\\d\\d*\"\n",
    "pat2 = r\"\\d\\d+\"\n",
    "result = re.findall(pat1|pat2, str1)\n",
    "print(result)"
   ]
  }
 ],
 "metadata": {
  "kernelspec": {
   "display_name": "Python 3",
   "language": "python",
   "name": "python3"
  },
  "language_info": {
   "codemirror_mode": {
    "name": "ipython",
    "version": 3
   },
   "file_extension": ".py",
   "mimetype": "text/x-python",
   "name": "python",
   "nbconvert_exporter": "python",
   "pygments_lexer": "ipython3",
   "version": "3.12.0"
  }
 },
 "nbformat": 4,
 "nbformat_minor": 2
}
