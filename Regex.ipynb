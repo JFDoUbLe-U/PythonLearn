{
 "cells": [
  {
   "cell_type": "code",
   "execution_count": 28,
   "metadata": {},
   "outputs": [
    {
     "name": "stdout",
     "output_type": "stream",
     "text": [
      "without raw string:\n",
      "c:\\example\\task\\new\n"
     ]
    }
   ],
   "source": [
    "import re\n",
    "\n",
    "print(\"without raw string:\")\n",
    "# path_to_search = \"c:\\example\\task\\new\"\n",
    "target_string = r\"c:\\example\\task\\new\\exercises\\session1\"\n",
    "\n",
    "# regex pattern\n",
    "pattern = r\"^c:\\\\example\\\\task\\\\new\"\n",
    "# \\n and \\t has a special meaning in Python\n",
    "# Python will treat them differently\n",
    "res = re.search(pattern, target_string)\n",
    "print(res.group())"
   ]
  },
  {
   "cell_type": "code",
   "execution_count": 21,
   "metadata": {},
   "outputs": [],
   "source": [
    "def resput(res):\n",
    "    out = \"\"\n",
    "    for i in res:\n",
    "        out += i\n",
    "    return out"
   ]
  },
  {
   "cell_type": "code",
   "execution_count": 26,
   "metadata": {},
   "outputs": [
    {
     "name": "stdout",
     "output_type": "stream",
     "text": [
      "23\n",
      "23\n"
     ]
    }
   ],
   "source": [
    "target_str = \"Hallo ich bin Janis und 23 Jahre alt.\"\n",
    "res = re.findall(r\"\\d\", target_str)\n",
    "print(res[0]+res[1])\n",
    "print(resput(res))"
   ]
  },
  {
   "cell_type": "code",
   "execution_count": 27,
   "metadata": {},
   "outputs": [
    {
     "name": "stdout",
     "output_type": "stream",
     "text": [
      "['Hallo']\n"
     ]
    }
   ],
   "source": [
    "target_str = \"Hallo ich bin Janis und 23 Jahre alt.\"\n",
    "res = re.findall(r\"Hallo\", target_str)\n",
    "print(res)"
   ]
  },
  {
   "cell_type": "code",
   "execution_count": 29,
   "metadata": {},
   "outputs": [
    {
     "name": "stdout",
     "output_type": "stream",
     "text": [
      "<class 're.Pattern'> re.compile('Patterntext')\n"
     ]
    }
   ],
   "source": [
    "#re.compile -> Macht den Pattern Text zu einem re.compile object\n",
    "patternobj = re.compile(\"Patterntext\")\n",
    "print(type(patternobj),patternobj)"
   ]
  },
  {
   "cell_type": "code",
   "execution_count": 53,
   "metadata": {},
   "outputs": [
    {
     "name": "stdout",
     "output_type": "stream",
     "text": [
      "Janis <re.Match object; span=(0, 5), match='Janis'>\n"
     ]
    }
   ],
   "source": [
    "#re.search -> Sucht den Pattern Text im Target und gibt aus, wo sich das erste Aufkommen des Pattern im Target befindet und das match selber. None falls er nichts findet.\n",
    "pattern = \"Janis\"\n",
    "target = \"Janis Alle lieben J anis, weil Janis so freundlich ist.\"\n",
    "ausgabe = re.search(pattern, target)\n",
    "print(ausgabe.group(), ausgabe)"
   ]
  },
  {
   "cell_type": "code",
   "execution_count": 46,
   "metadata": {},
   "outputs": [
    {
     "name": "stdout",
     "output_type": "stream",
     "text": [
      "Janis <re.Match object; span=(0, 5), match='Janis'>\n"
     ]
    }
   ],
   "source": [
    "#re.match -> Prüft, ob sich das pattern am Anfang des Targets befindet und gibt Position und Match aus. None, falls er nichts findet.\n",
    "ausgabe = re.match(pattern,target)\n",
    "print(ausgabe.group(), ausgabe)\n"
   ]
  },
  {
   "cell_type": "code",
   "execution_count": 51,
   "metadata": {},
   "outputs": [
    {
     "name": "stdout",
     "output_type": "stream",
     "text": [
      "Alle <re.Match object; span=(0, 4), match='Alle'>\n"
     ]
    }
   ],
   "source": [
    "#re.fullmatch -> Macht das gleiche, aber das Pattern muss mit dem gesamten target übereinstimmen. None, falls nicht.\n",
    "pattern = (\"Alle\")\n",
    "target = (\"Alle\")\n",
    "ausgabe = re.fullmatch(pattern, target)\n",
    "print(ausgabe.group(), ausgabe)"
   ]
  }
 ],
 "metadata": {
  "kernelspec": {
   "display_name": "Python 3",
   "language": "python",
   "name": "python3"
  },
  "language_info": {
   "codemirror_mode": {
    "name": "ipython",
    "version": 3
   },
   "file_extension": ".py",
   "mimetype": "text/x-python",
   "name": "python",
   "nbconvert_exporter": "python",
   "pygments_lexer": "ipython3",
   "version": "3.12.0"
  }
 },
 "nbformat": 4,
 "nbformat_minor": 2
}
