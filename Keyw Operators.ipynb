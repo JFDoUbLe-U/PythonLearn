{
 "cells": [
  {
   "cell_type": "code",
   "execution_count": 1,
   "metadata": {},
   "outputs": [
    {
     "name": "stdout",
     "output_type": "stream",
     "text": [
      "False\n",
      "None\n",
      "True\n",
      "and\n",
      "as\n",
      "assert\n",
      "async\n",
      "await\n",
      "break\n",
      "class\n",
      "continue\n",
      "def\n",
      "del\n",
      "elif\n",
      "else\n",
      "except\n",
      "finally\n",
      "for\n",
      "from\n",
      "global\n",
      "if\n",
      "import\n",
      "in\n",
      "is\n",
      "lambda\n",
      "nonlocal\n",
      "not\n",
      "or\n",
      "pass\n",
      "raise\n",
      "return\n",
      "try\n",
      "while\n",
      "with\n",
      "yield\n"
     ]
    }
   ],
   "source": [
    "import keyword\n",
    "kwList = keyword.kwlist\n",
    "for i in kwList:\n",
    "    print(i)"
   ]
  },
  {
   "cell_type": "code",
   "execution_count": 2,
   "metadata": {},
   "outputs": [
    {
     "name": "stdout",
     "output_type": "stream",
     "text": [
      "_\n",
      "case\n",
      "match\n",
      "type\n"
     ]
    }
   ],
   "source": [
    "softkwList = keyword.softkwlist\n",
    "for i in softkwList:\n",
    "    print(i)"
   ]
  },
  {
   "cell_type": "code",
   "execution_count": 3,
   "metadata": {},
   "outputs": [
    {
     "name": "stdout",
     "output_type": "stream",
     "text": [
      "True\n"
     ]
    }
   ],
   "source": [
    "# help(\"and\")\n",
    "def iskeyw(key,key2=0):\n",
    "    k = keyword.iskeyword(key)\n",
    "    if key2 !=0:\n",
    "        k2 = keyword.iskeyword(key2)   \n",
    "        return k,k2\n",
    "    else:\n",
    "        return k\n",
    "    \n",
    "print(iskeyw(\"and\"))"
   ]
  },
  {
   "cell_type": "code",
   "execution_count": 4,
   "metadata": {},
   "outputs": [
    {
     "name": "stdout",
     "output_type": "stream",
     "text": [
      "and :  True\n",
      "True :  True\n",
      "hallo :  False\n",
      "Bär :  False\n"
     ]
    }
   ],
   "source": [
    "def iskeyw2(*args):\n",
    "    for i in args:\n",
    "        k = keyword.iskeyword(i)\n",
    "        print(i,\": \",k)\n",
    "    \n",
    "iskeyw2(\"and\",\"True\",\"hallo\",\"Bär\")"
   ]
  },
  {
   "cell_type": "code",
   "execution_count": 5,
   "metadata": {},
   "outputs": [
    {
     "name": "stdout",
     "output_type": "stream",
     "text": [
      "True\n",
      "False\n",
      "True\n"
     ]
    }
   ],
   "source": [
    "k = 9\n",
    "b = k\n",
    "Liste = [1,2,3]\n",
    "Liste2 = Liste.copy()\n",
    "Liste3 = Liste\n",
    "\n",
    "print(k is b)\n",
    "print(Liste is Liste2)\n",
    "print(Liste is Liste3)"
   ]
  },
  {
   "cell_type": "code",
   "execution_count": 10,
   "metadata": {},
   "outputs": [
    {
     "name": "stdout",
     "output_type": "stream",
     "text": [
      "1\n",
      "9\n"
     ]
    }
   ],
   "source": [
    "print(5//4)\n",
    "a=3\n",
    "a**=2\n",
    "print(a)"
   ]
  },
  {
   "cell_type": "code",
   "execution_count": 3,
   "metadata": {},
   "outputs": [
    {
     "name": "stdout",
     "output_type": "stream",
     "text": [
      "Prints the values to a stream, or to sys.stdout by default.\n",
      "\n",
      "  sep\n",
      "    string inserted between values, default a space.\n",
      "  end\n",
      "    string appended after the last value, default a newline.\n",
      "  file\n",
      "    a file-like object (stream); defaults to the current sys.stdout.\n",
      "  flush\n",
      "    whether to forcibly flush the stream.\n"
     ]
    }
   ],
   "source": [
    "print(print.__doc__)"
   ]
  },
  {
   "cell_type": "code",
   "execution_count": 6,
   "metadata": {},
   "outputs": [
    {
     "name": "stdout",
     "output_type": "stream",
     "text": [
      "factorial of a number is: 24\n"
     ]
    }
   ],
   "source": [
    "def factorial(no):\n",
    "    if no == 0:\n",
    "        return 1\n",
    "    else:\n",
    "        return no * factorial(no - 1)\n",
    "\n",
    "print(\"factorial of a number is:\", factorial(4))\n",
    "\n",
    "#weiter ab map()"
   ]
  }
 ],
 "metadata": {
  "kernelspec": {
   "display_name": "Python 3",
   "language": "python",
   "name": "python3"
  },
  "language_info": {
   "codemirror_mode": {
    "name": "ipython",
    "version": 3
   },
   "file_extension": ".py",
   "mimetype": "text/x-python",
   "name": "python",
   "nbconvert_exporter": "python",
   "pygments_lexer": "ipython3",
   "version": "3.12.0"
  }
 },
 "nbformat": 4,
 "nbformat_minor": 2
}
