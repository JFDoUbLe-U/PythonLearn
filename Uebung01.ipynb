{
 "cells": [
  {
   "cell_type": "code",
   "execution_count": null,
   "metadata": {},
   "outputs": [],
   "source": [
    "#1.) Mit einem Zeilenumbruch\n",
    "#2.) Anweisungsblöcke stehen eingerückt unter einer Funktion, einer Schleife o.ä.\n",
    "#3.) a.) Liste, Strings, Tupel -> Sequenzen könne allesamt indiziert werden\n",
    "    #b.) if, elif und else\n",
    "    #c.) For x in x, While x..., -> Schleifen\n",
    "    #d.) Funktionsaufrufe auf verschiedenste Arten und Weisen"
   ]
  },
  {
   "cell_type": "code",
   "execution_count": 1,
   "metadata": {},
   "outputs": [
    {
     "name": "stdout",
     "output_type": "stream",
     "text": [
      "Der User Input enthält: 5  Zeichen.\n"
     ]
    }
   ],
   "source": [
    "#4.) \n",
    "usr_input = input(\"Gib einen beliebigen Text ein: \")\n",
    "print(\"Der User Input enthält:\",len(usr_input),\" Zeichen.\")"
   ]
  },
  {
   "cell_type": "code",
   "execution_count": 5,
   "metadata": {},
   "outputs": [
    {
     "name": "stdout",
     "output_type": "stream",
     "text": [
      "Du hast weniger als 3 Zeichen eingegeben.\n"
     ]
    }
   ],
   "source": [
    "#5.)\n",
    "usr_input = input(\"Gib einen beliebigen Text ein: \")\n",
    "if len(usr_input) >=3:\n",
    "    print(\"Der User Input enthält:\",len(usr_input),\" Zeichen.\")\n",
    "else:\n",
    "    print(\"Du hast weniger als 3 Zeichen eingegeben.\")\n",
    "\n",
    "#Kommentar, der die gewohnte Ausgabe nach wie vor erlaubt.\n",
    "# if len(usr_input) < 3:\n",
    "#     print(\"Du hast weniger als 3 Zeichen eingegeben.\")"
   ]
  },
  {
   "cell_type": "code",
   "execution_count": 10,
   "metadata": {},
   "outputs": [
    {
     "name": "stdout",
     "output_type": "stream",
     "text": [
      "Der User Input enthält: 5  Zeichen.\n",
      "Mehr als 3 Zeichen\n"
     ]
    }
   ],
   "source": [
    "#6.)\n",
    "usr_input = input(\"Gib einen beliebigen Text ein: \")\n",
    "if len(usr_input) >=3:\n",
    "    print(\"Der User Input enthält:\",len(usr_input),\" Zeichen.\")\n",
    "    print(\"Mehr als 3 Zeichen\")\n",
    "else:\n",
    "    print(\"Du hast weniger als 3 Zeichen eingegeben.\")"
   ]
  },
  {
   "cell_type": "code",
   "execution_count": 12,
   "metadata": {},
   "outputs": [
    {
     "name": "stdout",
     "output_type": "stream",
     "text": [
      "Du hast weniger als 3 Zeichen eingegeben.\n"
     ]
    }
   ],
   "source": [
    "#7.)\n",
    "usr_input = input(\"Gib einen beliebigen Text ein: \")\n",
    "if 3 <= len(usr_input) <=10:\n",
    "    print(\"Der User Input enthält:\",len(usr_input),\" Zeichen.\")\n",
    "    print(\"Mehr als 3 Zeichen\")\n",
    "elif len(usr_input) >10:\n",
    "    print(\"Der User Input enthält:\",len(usr_input),\" Zeichen.\")\n",
    "    print(\"Mehr als 10 Zeichen\")\n",
    "else:\n",
    "    print(\"Du hast weniger als 3 Zeichen eingegeben.\")"
   ]
  },
  {
   "cell_type": "code",
   "execution_count": 15,
   "metadata": {},
   "outputs": [
    {
     "name": "stdout",
     "output_type": "stream",
     "text": [
      "Der User Input enthält: 21  Zeichen.\n",
      "Mehr als 10 Zeichen\n",
      "Umfang: Lang\n"
     ]
    }
   ],
   "source": [
    "#8.)\n",
    "usr_input = input(\"Gib einen beliebigen Text ein: \")\n",
    "umfang = \"Kurz\"\n",
    "if 3 <= len(usr_input) <=10:\n",
    "    print(\"Der User Input enthält:\",len(usr_input),\" Zeichen.\")\n",
    "    print(\"Mehr als 3 Zeichen\")\n",
    "elif len(usr_input) >10:\n",
    "    print(\"Der User Input enthält:\",len(usr_input),\" Zeichen.\")\n",
    "    print(\"Mehr als 10 Zeichen\")\n",
    "    umfang = \"Lang\"\n",
    "else:\n",
    "    print(\"Du hast weniger als 3 Zeichen eingegeben.\")\n",
    "print(\"Umfang:\",umfang)"
   ]
  }
 ],
 "metadata": {
  "kernelspec": {
   "display_name": "Python 3",
   "language": "python",
   "name": "python3"
  },
  "language_info": {
   "codemirror_mode": {
    "name": "ipython",
    "version": 3
   },
   "file_extension": ".py",
   "mimetype": "text/x-python",
   "name": "python",
   "nbconvert_exporter": "python",
   "pygments_lexer": "ipython3",
   "version": "3.12.0"
  }
 },
 "nbformat": 4,
 "nbformat_minor": 2
}
